{
 "cells": [
  {
   "cell_type": "markdown",
   "metadata": {},
   "source": []
  },
  {
   "cell_type": "markdown",
   "metadata": {},
   "source": [
    "# Part I: Whomst've is an Python?"
   ]
  },
  {
   "cell_type": "markdown",
   "metadata": {},
   "source": [
    "## Functions\n",
    "Just as in math irl, a function in Python is something that gives you an output based on an input. You've probably most commonly seen them of the form:\n",
    "\n",
    "$f(x) = y$\n",
    "\n",
    "an efficient way of telling you that $y$ is the output of the function $f$, given the input $x$.\n",
    "\n",
    "While some languages (and versions of Python) use different conventions, Python 3 is convenient in that its functions take the same form. To $\\textbf{call}$ a function, or to tell Python to do it, you simply write the function name followed by your input, or the $\\textbf{argument}$ of the function.\n",
    "\n",
    "Python is very powerful in that you can define your own functions, but it also has its own built in functions that don't require you to define anything. One of these is $\\texttt{print}$, probably the most useful function ever.\n",
    "\n",
    "Run the cell below and see what the $\\texttt{print}$ function does:"
   ]
  },
  {
   "cell_type": "code",
   "execution_count": null,
   "metadata": {},
   "outputs": [],
   "source": [
    "print('Hello World!')"
   ]
  },
  {
   "cell_type": "markdown",
   "metadata": {},
   "source": [
    "In this case, the argument of the $\\texttt{print}$ function was the phrase $\\texttt{'Hello World!'}$, and the output was the argument, printed so you can read it.\n",
    "\n",
    "Another useful function is $\\texttt{len}$:"
   ]
  },
  {
   "cell_type": "code",
   "execution_count": null,
   "metadata": {},
   "outputs": [],
   "source": [
    "len('Hello World!')"
   ]
  },
  {
   "cell_type": "markdown",
   "metadata": {},
   "source": [
    "As you might have guessed, this function returns the length of the argument, or how many elements are in it. In this case, we've learned that the phrase 'Hello World! has 12 characters. This can also be applied to $\\textbf{lists}$ of numbers:"
   ]
  },
  {
   "cell_type": "code",
   "execution_count": null,
   "metadata": {},
   "outputs": [],
   "source": [
    "len([0,1,2,3,4,5,6,7,8,9,10])"
   ]
  },
  {
   "cell_type": "markdown",
   "metadata": {},
   "source": [
    "Lists are exactly what you think they are. They are within square brackets, and their elements are separated by commas.\n",
    "\n",
    "You can also use the $\\texttt{list}$ function to create lists:"
   ]
  },
  {
   "cell_type": "code",
   "execution_count": null,
   "metadata": {},
   "outputs": [],
   "source": [
    "print(list((0,1,2,3,4,5,6,7,8,9,10)))"
   ]
  },
  {
   "cell_type": "markdown",
   "metadata": {},
   "source": [
    "When dealing with numbers, $\\texttt{min}$ and $\\texttt{max}$ are also useful functions:"
   ]
  },
  {
   "cell_type": "code",
   "execution_count": null,
   "metadata": {},
   "outputs": [],
   "source": [
    "print(min([0,1,2,3,4,5,6,7,8,9,10]))\n",
    "print(max([0,1,2,3,4,5,6,7,8,9,10]))"
   ]
  },
  {
   "cell_type": "markdown",
   "metadata": {},
   "source": [
    "Notice this time I told python to print the outputs of these two functions. This means two things: one, if you have other objects in your cell, Python will not automatically print the function's output. Two, YOU CAN CALL FUNCTIONS OF FUNCIONS. Neat, huh?\n",
    "\n",
    "Just like IRL functions, functions in Python can also have multiple arguments, separated by commas in the parentheses:"
   ]
  },
  {
   "cell_type": "code",
   "execution_count": null,
   "metadata": {},
   "outputs": [],
   "source": [
    "print( min([0,1,2,3,4,5,6,7,8,9,10]) , max([0,1,2,3,4,5,6,7,8,9,10]))"
   ]
  },
  {
   "cell_type": "markdown",
   "metadata": {},
   "source": [
    "Yet another built in function I use all the time is $\\texttt{range}$. Given two arguments, it returns a range of integers with a step size of 1 beginning at the first argument and ending at the number before the second. That is, the range is not inclusive of the second argument. This will come back later when we work more with lists again.\n",
    "\n",
    "So for example, to return the same numbers as the list we're working with, I need only type:"
   ]
  },
  {
   "cell_type": "code",
   "execution_count": null,
   "metadata": {},
   "outputs": [],
   "source": [
    "list(range(0,11))"
   ]
  },
  {
   "cell_type": "markdown",
   "metadata": {},
   "source": [
    "In fact, if I know I will be starting from 0, I only need to give the top number:"
   ]
  },
  {
   "cell_type": "code",
   "execution_count": null,
   "metadata": {},
   "outputs": [],
   "source": [
    "list(range(11))"
   ]
  },
  {
   "cell_type": "markdown",
   "metadata": {},
   "source": [
    "By default, Python and the other morally superior coding languages begin at 0 rather than 1 when making lists of numbers or indexing (something we will get into soon).\n",
    "\n",
    "Notice how below, the argument is 11, but the min and max of the range are the same before because it stars at 0 and ends at 10."
   ]
  },
  {
   "cell_type": "code",
   "execution_count": null,
   "metadata": {},
   "outputs": [],
   "source": [
    "print(min(range(11)),max(range(11)))"
   ]
  },
  {
   "cell_type": "markdown",
   "metadata": {},
   "source": [
    "And if I want a step size other than one, $\\texttt{range}$ can take that as a third argument:"
   ]
  },
  {
   "cell_type": "code",
   "execution_count": null,
   "metadata": {},
   "outputs": [],
   "source": [
    "list(range(0,11,2))"
   ]
  },
  {
   "cell_type": "markdown",
   "metadata": {},
   "source": [
    "Now, its really getting tedious to keep typing out these things. Luckily, in Python, you can also define $\\textbf{variables}$. These serve as place holders for your data and make your life much easier. To set a variable, just type the variable name, =, and its value:"
   ]
  },
  {
   "cell_type": "code",
   "execution_count": null,
   "metadata": {},
   "outputs": [],
   "source": [
    "s = 'Hello World!'\n",
    "l = range(11)"
   ]
  },
  {
   "cell_type": "markdown",
   "metadata": {},
   "source": [
    "### Benchmark\n",
    "In the cell below, use Python's built in functions to print both the length of the phrase 'Hello World!' and the list of numbers by using the variables above."
   ]
  },
  {
   "cell_type": "code",
   "execution_count": null,
   "metadata": {},
   "outputs": [],
   "source": []
  },
  {
   "cell_type": "markdown",
   "metadata": {},
   "source": [
    "Those are just some of the functions already in Python without us having to define anything! But of course, we'll want to define our own functions to do all sorts of crazy math and science!\n",
    "\n",
    "To define a new function, we write $\\texttt{def}$ then the name of the function and the input variables, followed by a colon:"
   ]
  },
  {
   "cell_type": "code",
   "execution_count": null,
   "metadata": {},
   "outputs": [],
   "source": [
    "def function(x,y):\n",
    "    print(x,y)"
   ]
  },
  {
   "cell_type": "markdown",
   "metadata": {},
   "source": [
    "Notice how after the colon, I've started a new line and indented. In Python, indentation and spaces matter a lot and take the place of curly brackets and other things in different languages.\n",
    "\n",
    "After defining a function, I can simply call it just like I would with the built in functions. Notice that because I placed a print statement within the function, when I call the function my two inputs will be printed and I won't have to exlicitly say $\\texttt{print(function(x,y))}$."
   ]
  },
  {
   "cell_type": "code",
   "execution_count": null,
   "metadata": {},
   "outputs": [],
   "source": [
    "function(s,l)"
   ]
  },
  {
   "cell_type": "markdown",
   "metadata": {},
   "source": [
    "If we want a function to return an output, we have to place $\\texttt{return}$ and then define what we want the output to be:"
   ]
  },
  {
   "cell_type": "code",
   "execution_count": null,
   "metadata": {},
   "outputs": [],
   "source": [
    "def function2(x,y):\n",
    "    return x + y\n",
    "\n",
    "function2(2,2)"
   ]
  },
  {
   "cell_type": "markdown",
   "metadata": {},
   "source": [
    "### Benchmark\n",
    "In the cell below, define a function that takes two arguments - both integers. It should print a list beginning at the greater of the two numbers, then every integer between that and the lesser with a step size of 5."
   ]
  },
  {
   "cell_type": "code",
   "execution_count": null,
   "metadata": {},
   "outputs": [],
   "source": []
  },
  {
   "cell_type": "markdown",
   "metadata": {},
   "source": [
    "## Data - types and basic operations"
   ]
  },
  {
   "cell_type": "markdown",
   "metadata": {},
   "source": [
    "Let's define some more variables to work with:"
   ]
  },
  {
   "cell_type": "code",
   "execution_count": null,
   "metadata": {},
   "outputs": [],
   "source": [
    "a = 42\n",
    "b = 10.0\n",
    "c = '24'"
   ]
  },
  {
   "cell_type": "markdown",
   "metadata": {},
   "source": [
    "Cool. Now lets go over all the crazy things we can do with these!\n",
    "\n",
    "Most of the basic arithmetic we can do in Python is pretty intuitive:"
   ]
  },
  {
   "cell_type": "code",
   "execution_count": null,
   "metadata": {},
   "outputs": [],
   "source": [
    "2 + 4"
   ]
  },
  {
   "cell_type": "code",
   "execution_count": null,
   "metadata": {},
   "outputs": [],
   "source": [
    "72 - 86"
   ]
  },
  {
   "cell_type": "code",
   "execution_count": null,
   "metadata": {},
   "outputs": [],
   "source": [
    "3 * 4"
   ]
  },
  {
   "cell_type": "code",
   "execution_count": null,
   "metadata": {},
   "outputs": [],
   "source": [
    "10 / 2"
   ]
  },
  {
   "cell_type": "markdown",
   "metadata": {},
   "source": [
    "You might think exponents would be $\\texttt{^}$, but instead in Python we use $\\texttt{**}$"
   ]
  },
  {
   "cell_type": "code",
   "execution_count": null,
   "metadata": {},
   "outputs": [],
   "source": [
    "10**2"
   ]
  },
  {
   "cell_type": "markdown",
   "metadata": {},
   "source": [
    "You can of course use math when defining variables:"
   ]
  },
  {
   "cell_type": "code",
   "execution_count": null,
   "metadata": {},
   "outputs": [],
   "source": [
    "d = a + 8\n",
    "print(d)"
   ]
  },
  {
   "cell_type": "markdown",
   "metadata": {},
   "source": [
    "Something that's neat you can do but also need to be careful about is changing variables by doing operations on them:"
   ]
  },
  {
   "cell_type": "code",
   "execution_count": null,
   "metadata": {},
   "outputs": [],
   "source": [
    "d = 50\n",
    "print(d)\n",
    "d = d + 5\n",
    "print(d)\n",
    "d += 5\n",
    "print(d)"
   ]
  },
  {
   "cell_type": "markdown",
   "metadata": {},
   "source": [
    "Use the cell below to do some basic operations with our new variables $\\texttt{a}$, $\\texttt{b}$, and $\\texttt{c}$."
   ]
  },
  {
   "cell_type": "code",
   "execution_count": null,
   "metadata": {},
   "outputs": [],
   "source": []
  },
  {
   "cell_type": "markdown",
   "metadata": {},
   "source": [
    "As you might of noticed, some numbers are green and some are red, and Python won't let them all work together!! This is because each of these variables are of different $\\textbf{type}$!! \n",
    "\n",
    "In the cell below, use the function $\\texttt{type()}$ on each of our variables to see what type they are:"
   ]
  },
  {
   "cell_type": "code",
   "execution_count": null,
   "metadata": {},
   "outputs": [],
   "source": []
  },
  {
   "cell_type": "markdown",
   "metadata": {},
   "source": [
    "You should have discovered the three types of data: $\\textbf{int}$, $\\textbf{float}$, and $\\textbf{str}$. Ints and floats usually work fine together (although not all the time!), but both of these have problems working with strings. That's okay though! We can use the $\\texttt{int()}$, $\\texttt{float()}$, and $\\texttt{str()}$ commands to change the type of our objects.\n",
    "\n",
    "In the cell below, change the type of $\\texttt{c}$ so that we can do mathematical operations with it on the other variables. Print $\\texttt{a + c}$"
   ]
  },
  {
   "cell_type": "code",
   "execution_count": null,
   "metadata": {},
   "outputs": [],
   "source": []
  },
  {
   "cell_type": "markdown",
   "metadata": {},
   "source": [
    "As far as formatting is concerned, we don't have to worry much when typing or defining ints and floats. However, to define strings, we have to enclose them in quotation marks. It doesn't matter whether you use single or double. The neat thing about strings is that we can multiply them by ints, or add them to other strings:"
   ]
  },
  {
   "cell_type": "code",
   "execution_count": null,
   "metadata": {},
   "outputs": [],
   "source": [
    "print('Yikes' * 5)\n",
    "print('Put two ' + 'and two ' + 'together')"
   ]
  },
  {
   "cell_type": "markdown",
   "metadata": {},
   "source": [
    "### Benchmark\n",
    "Define a function below that takes two arguments - one, a string, the other an int. If you input a person's name (string) and age (int), the function will print $\\texttt{[Name] is [age] years old.}$"
   ]
  },
  {
   "cell_type": "code",
   "execution_count": null,
   "metadata": {},
   "outputs": [],
   "source": []
  },
  {
   "cell_type": "markdown",
   "metadata": {},
   "source": [
    "In addition to basic arithmetic, Python can do $\\textbf{boolean logic}$. To check if a variable is equivalent to something, we use a double equals sign. If the two objects are equal, Python will return the $\\textbf{boolean}$ $\\texttt{True}$. If not, it will return the boolean $\\texttt{False}$."
   ]
  },
  {
   "cell_type": "code",
   "execution_count": null,
   "metadata": {},
   "outputs": [],
   "source": [
    "a == 42"
   ]
  },
  {
   "cell_type": "code",
   "execution_count": null,
   "metadata": {},
   "outputs": [],
   "source": [
    "a == 37"
   ]
  },
  {
   "cell_type": "markdown",
   "metadata": {},
   "source": [
    "There are other logic operations that you can do that are intuititve:"
   ]
  },
  {
   "cell_type": "code",
   "execution_count": null,
   "metadata": {},
   "outputs": [],
   "source": [
    "15 > 10"
   ]
  },
  {
   "cell_type": "code",
   "execution_count": null,
   "metadata": {},
   "outputs": [],
   "source": [
    "5 <= 7"
   ]
  },
  {
   "cell_type": "code",
   "execution_count": null,
   "metadata": {},
   "outputs": [],
   "source": [
    "3 >= 5"
   ]
  },
  {
   "cell_type": "markdown",
   "metadata": {},
   "source": [
    "You can also use $\\texttt{and}$ statements and $\\texttt{or}$ statements. \n",
    "\n",
    "For $\\texttt{and}$ statements, both statements must be true in order to return $\\texttt{True}$. Otherwise, it will return $\\texttt{False}$.\n",
    "\n",
    "For $\\texttt{or}$ statements, only one or both statements must be true in order to return $\\texttt{True}$."
   ]
  },
  {
   "cell_type": "code",
   "execution_count": null,
   "metadata": {},
   "outputs": [],
   "source": [
    "3 == 5 or 3 < 5"
   ]
  },
  {
   "cell_type": "code",
   "execution_count": null,
   "metadata": {},
   "outputs": [],
   "source": [
    "10 > 2 and 2 < 1"
   ]
  },
  {
   "cell_type": "markdown",
   "metadata": {},
   "source": [
    "## Data - Lists and Arrays\n",
    "Of course, science isn't usually just comparing a couple of values at a time. So far we've just used Python as a fancy calculator, but usually we deal with large data sets. Often, these are in the form of our old friend the list. However, lists have their limitations. For example, I can't simply add the values of two lists together. Instead I get this huge monster list:"
   ]
  },
  {
   "cell_type": "code",
   "execution_count": null,
   "metadata": {},
   "outputs": [],
   "source": [
    "list(range(0,21,2)) + list(range(0,11))"
   ]
  },
  {
   "cell_type": "markdown",
   "metadata": {},
   "source": [
    "This is where arrays come in. Arrays are an object not built in to Python already, but in a package called numpy. To import numpy, we simply write $\\texttt{import}$ and numpy."
   ]
  },
  {
   "cell_type": "code",
   "execution_count": null,
   "metadata": {},
   "outputs": [],
   "source": [
    "import numpy"
   ]
  },
  {
   "cell_type": "markdown",
   "metadata": {},
   "source": [
    "To call functions from the numpy module, we type $\\texttt{numpy.}$ and then the function we want:"
   ]
  },
  {
   "cell_type": "code",
   "execution_count": null,
   "metadata": {},
   "outputs": [],
   "source": [
    "numpy.array(range(11))"
   ]
  },
  {
   "cell_type": "markdown",
   "metadata": {},
   "source": [
    "numpy has lots of very useful things, and you can end up using it a lot while typing your code, so to save time, we usually import numpy as np:"
   ]
  },
  {
   "cell_type": "code",
   "execution_count": null,
   "metadata": {},
   "outputs": [],
   "source": [
    "import numpy as np"
   ]
  },
  {
   "cell_type": "markdown",
   "metadata": {},
   "source": [
    "And now we only need to type np and Python will know what we're talking about"
   ]
  },
  {
   "cell_type": "code",
   "execution_count": null,
   "metadata": {},
   "outputs": [],
   "source": [
    "np.array(range(11))"
   ]
  },
  {
   "cell_type": "markdown",
   "metadata": {},
   "source": [
    "Now, some of the drawbacks of the $\\texttt{range}$ function is that the step size cannot go below 1 and that it wasn't inclusive. A great alternative is $\\texttt{np.linspace}$. It also takes three arguments - the first is the beginning of your number sequence, the second is the end (inclusive), and the third is the number of values. linspace then spaces the values evenly so you get a nice even distribution of floats."
   ]
  },
  {
   "cell_type": "code",
   "execution_count": null,
   "metadata": {},
   "outputs": [],
   "source": [
    "np.linspace(0,10,10)"
   ]
  },
  {
   "cell_type": "code",
   "execution_count": null,
   "metadata": {},
   "outputs": [],
   "source": [
    "np.linspace(0,10,100)"
   ]
  },
  {
   "cell_type": "markdown",
   "metadata": {},
   "source": [
    "If you don't give a third argument, the default number is 50"
   ]
  },
  {
   "cell_type": "code",
   "execution_count": null,
   "metadata": {},
   "outputs": [],
   "source": [
    "array = np.linspace(0,20)\n",
    "print(len(array))"
   ]
  },
  {
   "cell_type": "markdown",
   "metadata": {},
   "source": [
    "If you really like the range function though, numpy also has $\\texttt{arange}$, which works the same, but returns your values as a numpy array:"
   ]
  },
  {
   "cell_type": "code",
   "execution_count": null,
   "metadata": {},
   "outputs": [],
   "source": [
    "np.arange(5,50,5)"
   ]
  },
  {
   "cell_type": "markdown",
   "metadata": {},
   "source": [
    "What's so special about arrays anyway?? Well, for one, you can do mathematical operations on them:"
   ]
  },
  {
   "cell_type": "code",
   "execution_count": null,
   "metadata": {},
   "outputs": [],
   "source": [
    "array = np.linspace(0,20)\n",
    "print(array)\n",
    "array *= 0.5\n",
    "print(array)"
   ]
  },
  {
   "cell_type": "markdown",
   "metadata": {},
   "source": [
    "or combine the elements of two:"
   ]
  },
  {
   "cell_type": "code",
   "execution_count": null,
   "metadata": {},
   "outputs": [],
   "source": [
    "array1 = np.linspace(0,20,10); array2 = np.linspace(0,0.5,10)\n",
    "array3 = array1 * array2\n",
    "print(array3)\n",
    "print(array1 + array2)"
   ]
  },
  {
   "cell_type": "markdown",
   "metadata": {},
   "source": [
    "You can even pass arrays through functions:"
   ]
  },
  {
   "cell_type": "code",
   "execution_count": null,
   "metadata": {},
   "outputs": [],
   "source": [
    "def arrayfunction(x):\n",
    "    return x**2\n",
    "\n",
    "arrayfunction(np.arange(0,10))"
   ]
  },
  {
   "cell_type": "markdown",
   "metadata": {},
   "source": [
    "If you already have your data in a list, you don't have to worry either, because you can easily turn that list into an array:"
   ]
  },
  {
   "cell_type": "code",
   "execution_count": null,
   "metadata": {},
   "outputs": [],
   "source": [
    "mylist = [0,5,10,15,20]\n",
    "array = np.array(mylist)\n",
    "print(array/5)"
   ]
  },
  {
   "cell_type": "markdown",
   "metadata": {},
   "source": [
    "Arrays can also be multidimensional:"
   ]
  },
  {
   "cell_type": "code",
   "execution_count": null,
   "metadata": {},
   "outputs": [],
   "source": [
    "np.array([[1,0],[0,1]])"
   ]
  },
  {
   "cell_type": "markdown",
   "metadata": {},
   "source": [
    "If you're not sure of the dimension or size of an array, you can use the $\\texttt{shape()}$ function:"
   ]
  },
  {
   "cell_type": "code",
   "execution_count": null,
   "metadata": {},
   "outputs": [],
   "source": [
    "array = np.array([[1,0,0], [0,0,1]])\n",
    "np.shape(array)"
   ]
  },
  {
   "cell_type": "markdown",
   "metadata": {},
   "source": [
    "And of course, to define your array manually is very much like creating a list. Within the array function, the data must also be within square brackets:"
   ]
  },
  {
   "cell_type": "code",
   "execution_count": null,
   "metadata": {},
   "outputs": [],
   "source": [
    "array = np.array([4,8,12,16])"
   ]
  },
  {
   "cell_type": "markdown",
   "metadata": {},
   "source": [
    "Okay, I have arrays now, but what if I only need to work with or change one or a few numbers in that array? We can use indexing! To index a list or array, we use square brackets. Like I mentioned before, Python is zero-based, meaning the first element is element 0:"
   ]
  },
  {
   "cell_type": "code",
   "execution_count": null,
   "metadata": {},
   "outputs": [],
   "source": [
    "array[0]"
   ]
  },
  {
   "cell_type": "markdown",
   "metadata": {},
   "source": [
    "You can try to think of this as the \"zeroth\" element, or just displace by one whenever you think about indices.\n",
    "\n",
    "To get the last element of a list of array, you can put the index of that element, or -1. Think of this as just indexing in the opposite direction. In general, any distance from the end of the list will just be the negative of the number of elements away from the end:"
   ]
  },
  {
   "cell_type": "code",
   "execution_count": null,
   "metadata": {},
   "outputs": [],
   "source": [
    "array[-1]"
   ]
  },
  {
   "cell_type": "code",
   "execution_count": null,
   "metadata": {},
   "outputs": [],
   "source": [
    "array[-2]"
   ]
  },
  {
   "cell_type": "markdown",
   "metadata": {},
   "source": [
    "To index multiple elements, we use a colon. The rules of these are as follows:\n",
    "\n",
    "$\\texttt{a:b}$ - from index a to index b (exlusive)\n",
    "\n",
    "$\\texttt{a:b:c}$ - every c'th entry between indices a and b\n",
    "\n",
    "$\\texttt{a:}$ - from index a until the end\n",
    "\n",
    "$\\texttt{:a}$ - from the beginning to index a\n",
    "\n",
    "In the cell below, create a new 1d array that ranges from 0 to 100 with 25 elements. Print: a) the array until index 5; b) the array between indices 10 and 20; c) the entire array in steps of 3"
   ]
  },
  {
   "cell_type": "code",
   "execution_count": null,
   "metadata": {},
   "outputs": [],
   "source": []
  },
  {
   "cell_type": "markdown",
   "metadata": {},
   "source": [
    "When indexing 2d arrays, the convention is $\\texttt{[row,column]}$:"
   ]
  },
  {
   "cell_type": "code",
   "execution_count": null,
   "metadata": {},
   "outputs": [],
   "source": [
    "array2d = np.array([[1,2,3],\n",
    "                    [4,5,6],\n",
    "                    [7,8,9]])\n",
    "print(array2d[1,1])"
   ]
  },
  {
   "cell_type": "markdown",
   "metadata": {},
   "source": [
    "Based on the 1d indexing rules, how do you think you could select an entire row of a 2d array? An entire column? Print the second column and the third row of array2d in the cell below:"
   ]
  },
  {
   "cell_type": "code",
   "execution_count": null,
   "metadata": {},
   "outputs": [],
   "source": []
  },
  {
   "cell_type": "markdown",
   "metadata": {},
   "source": [
    "Another useful trick when working with lists and arrays is to make an \"empty\" array that you will populate later. This is done using $\\texttt{np.zeros()}$. \n",
    "\n",
    "For a 1d array, simply put the size you want in the argument. For higher dimensions, $\\texttt{(rows,cols})$."
   ]
  },
  {
   "cell_type": "code",
   "execution_count": null,
   "metadata": {},
   "outputs": [],
   "source": [
    "emptyarray = np.zeros((2,3))\n",
    "emptyarray"
   ]
  },
  {
   "cell_type": "markdown",
   "metadata": {},
   "source": [
    "### Benchmark\n",
    "In the cell below, create the 3x3 identity matrix by creating an empty matrix and populating it."
   ]
  },
  {
   "cell_type": "code",
   "execution_count": null,
   "metadata": {},
   "outputs": [],
   "source": []
  },
  {
   "cell_type": "markdown",
   "metadata": {},
   "source": [
    "Say you're looking at a very large array or only care about one portion of your data. You can use the $\\texttt{np.where}$ function to retrieve the indices of the values within your array that meet certain criteria.\n",
    "\n",
    "Consider this hypothetical list of grades:"
   ]
  },
  {
   "cell_type": "code",
   "execution_count": null,
   "metadata": {},
   "outputs": [],
   "source": [
    "grades = np.array([100, 62, 77, 56, 98, 54, 83, 91, 69, 96])\n",
    "\n",
    "passing  = np.where(grades > 70)\n",
    "print(passing)"
   ]
  },
  {
   "cell_type": "markdown",
   "metadata": {},
   "source": [
    "$\\texttt{np.where}$ returns a tuple, which is like a list. As you can see, the indices we care about are in the first element of this tuple:"
   ]
  },
  {
   "cell_type": "code",
   "execution_count": null,
   "metadata": {},
   "outputs": [],
   "source": [
    "passinggrades = grades[passing[0]]\n",
    "print(passinggrades)"
   ]
  },
  {
   "cell_type": "markdown",
   "metadata": {},
   "source": [
    "Notice how we can use a list of indices as itself an index in order to list multiple elements."
   ]
  },
  {
   "cell_type": "markdown",
   "metadata": {},
   "source": [
    "### Benchmark\n",
    "In the cell below, create a 1d array that spans from 2 to 40 with step size 2. Think of this as our X values. Then create a step function by defining a function that returns 0 for values less than 20 and 1 for values greater than or equal to 20. Pass the array through this function"
   ]
  },
  {
   "cell_type": "code",
   "execution_count": null,
   "metadata": {},
   "outputs": [],
   "source": []
  },
  {
   "cell_type": "markdown",
   "metadata": {},
   "source": [
    "## If statements and Loops\n",
    "A lot of Python's power comes from it logic and automation abilities. Using these in a smart way can save you a lot of work. As the saying goes - work smarter, not harder!\n",
    "\n",
    "$\\texttt{if}$ statements provide Python with a condition that must be met for the code to continue. If this condition is not met, the code will stop or look for other conditions.\n",
    "\n",
    "Let's look at the syntax of how this works:\n",
    "\n",
    "$\\texttt{if condition is met:}$\n",
    "\n",
    "$\\quad \\texttt{do something}$\n",
    "\n",
    "Just as with defining functions, keeping track of indentations is very important here. It can easily become confusing once you start nesting these bad boys."
   ]
  },
  {
   "cell_type": "code",
   "execution_count": null,
   "metadata": {},
   "outputs": [],
   "source": [
    "x = 'Python'\n",
    "\n",
    "if type(x) == str:\n",
    "    print('Python is a string')"
   ]
  },
  {
   "cell_type": "markdown",
   "metadata": {},
   "source": [
    "To provide another possible condition, we can use $\\texttt{else}$:"
   ]
  },
  {
   "cell_type": "code",
   "execution_count": null,
   "metadata": {},
   "outputs": [],
   "source": [
    "x = 5\n",
    "\n",
    "if x > 10:\n",
    "    print('X is a pretty big number')\n",
    "else:\n",
    "    print('X is a lame number')"
   ]
  },
  {
   "cell_type": "markdown",
   "metadata": {},
   "source": [
    "To provide even more conditions, we use $\\texttt{elif}$, or \"else if\" statements. We can add as much of these as we want, as long as they are between the $\\texttt{if}$ and $\\texttt{else}$ statements. "
   ]
  },
  {
   "cell_type": "code",
   "execution_count": null,
   "metadata": {},
   "outputs": [],
   "source": [
    "array = np.array([[1,5,7],[3,2,8],[9,1,5]])\n",
    "\n",
    "if np.shape(array) == (1,0):\n",
    "    print('The array is a 1d list')\n",
    "elif np.shape(array) == (2,2):\n",
    "    print('The array is a 2x2 matrix')\n",
    "elif np.shape(array) == (3,3):\n",
    "    print('The array is a 3x3 matrix')\n",
    "else:\n",
    "    print('Not sure what the array is')"
   ]
  },
  {
   "cell_type": "markdown",
   "metadata": {},
   "source": [
    "In the cell below, create a 1d array with 10 values between 0 and 1, inclusive. Write an $\\texttt{if}$ statement that checks whether the last entry in the array is less than one. If so, print the last entry. If not, print \"[last entry] is not less than one.\""
   ]
  },
  {
   "cell_type": "code",
   "execution_count": null,
   "metadata": {},
   "outputs": [],
   "source": []
  },
  {
   "cell_type": "markdown",
   "metadata": {},
   "source": [
    "$\\texttt{For}$ loops allow you to iterate through lists and arrays and lots of other things and do some operation for every iteration. The syntax is:\n",
    "\n",
    "$\\texttt{for x in y:}$\n",
    "\n",
    "$\\quad \\texttt{do something}$\n",
    "\n",
    "By convention, people like to use $\\texttt{i}$, probably for \"iteration\", but it actually doesn't really matter as long as you keep track of it."
   ]
  },
  {
   "cell_type": "code",
   "execution_count": null,
   "metadata": {},
   "outputs": [],
   "source": [
    "for i in range(10):\n",
    "    print(i**2)"
   ]
  },
  {
   "cell_type": "code",
   "execution_count": null,
   "metadata": {},
   "outputs": [],
   "source": [
    "hidden_message = ['siht','si','a','neddih','egassem']\n",
    "for word in hidden_message:\n",
    "    print(word[::-1])"
   ]
  },
  {
   "cell_type": "markdown",
   "metadata": {},
   "source": [
    "Like I said, you can nest loops and if statements within each other for extra fun, and things can get crazy. In my research I often use five layers of loops. Don't try this at home kids"
   ]
  },
  {
   "cell_type": "code",
   "execution_count": null,
   "metadata": {},
   "outputs": [],
   "source": [
    "students = ['Peter','Joseph','Pranav','Aryn']\n",
    "grades = [100,82,65,70]\n",
    "for i in range(len(students)):\n",
    "    if grades[i] > 90:\n",
    "        print(students[i],'is a great student')\n",
    "    elif 75 < grades[i] < 89:\n",
    "        print(students[i],'is an okay student')\n",
    "    else:\n",
    "        print(students[i],'is a terrible student')"
   ]
  },
  {
   "cell_type": "markdown",
   "metadata": {},
   "source": [
    "In the cell below, iterate through the array, and for every value, check whether it is even. If so, print the value.\n",
    "\n",
    "Hint: the remainder of x / y in Python is $\\texttt{x % y}$"
   ]
  },
  {
   "cell_type": "code",
   "execution_count": null,
   "metadata": {},
   "outputs": [],
   "source": [
    "array = np.linspace(0,20,21)\n",
    "\n",
    "\n"
   ]
  },
  {
   "cell_type": "markdown",
   "metadata": {},
   "source": [
    "A more dynamic variation of the $\\texttt{for}$ loop is the $\\texttt{while}$ loop. This will run the code as long as a certain condition is met and then stop once it is no longer true."
   ]
  },
  {
   "cell_type": "code",
   "execution_count": null,
   "metadata": {},
   "outputs": [],
   "source": [
    "x = 0\n",
    "while x < 10:\n",
    "    print(x)\n",
    "    x += 1\n",
    "else:\n",
    "    print('x is too big!')"
   ]
  },
  {
   "cell_type": "markdown",
   "metadata": {},
   "source": [
    "## Data - Visualization\n",
    "You know your way around numpy arrays and the logic of Python! Great! But numbers are very abstract, and once you get really large datasets, looking through those long lists just won't be able to cut it. Plotting data is the best way to get the most out of your research! but how to....?\n",
    "\n",
    "Most people like to use another package called $\\textbf{matplotlib}$, truncated to \"plt\". Just like numpy, we need to import it:"
   ]
  },
  {
   "cell_type": "code",
   "execution_count": null,
   "metadata": {},
   "outputs": [],
   "source": [
    "import matplotlib.pyplot as plt"
   ]
  },
  {
   "cell_type": "markdown",
   "metadata": {},
   "source": [
    "The most common function you will call from matplotlib is $\\textbf{plot}$. Aptly named, it plots your data! Give your X data first and Y data second:"
   ]
  },
  {
   "cell_type": "code",
   "execution_count": null,
   "metadata": {},
   "outputs": [],
   "source": [
    "x = np.linspace(0,20)\n",
    "y = np.linspace(0,10)\n",
    "\n",
    "plt.plot(x,y)"
   ]
  },
  {
   "cell_type": "markdown",
   "metadata": {},
   "source": [
    "There are many many different ways to customize and tweak these plots, and there's no way I could go over them all, but I'll try to hit the major ones:\n",
    "\n",
    "To change the size of your plot, before you call plot, type plt.figure, and within the argument set the variable figsize=(length,height)"
   ]
  },
  {
   "cell_type": "code",
   "execution_count": null,
   "metadata": {},
   "outputs": [],
   "source": [
    "plt.figure(figsize=(15,5))\n",
    "plt.plot(x,y)"
   ]
  },
  {
   "cell_type": "markdown",
   "metadata": {},
   "source": [
    "To change the actual line of the plot, there are several additional arguments you can put in plot(). Some are\n",
    "\n",
    "linestyle: solid line, dashed line, dot dashed, whatever\n",
    "\n",
    "color: plot in style!! what's the best color??\n",
    "\n",
    "alpha: opacity basically. Useful if you have a lot of other plots in one graph\n",
    "\n",
    "label: doesn't affect the graph but will show up in the legend and is very helpful\n",
    "\n",
    "Here's an example:"
   ]
  },
  {
   "cell_type": "code",
   "execution_count": null,
   "metadata": {},
   "outputs": [],
   "source": [
    "plt.figure(figsize=(15,5))\n",
    "plt.plot(x,y,ls = '-.', color='m', alpha=0.7,label='beautiful plot')\n",
    "plt.legend()"
   ]
  },
  {
   "cell_type": "markdown",
   "metadata": {},
   "source": [
    "Labeling is also very important!! "
   ]
  },
  {
   "cell_type": "code",
   "execution_count": null,
   "metadata": {},
   "outputs": [],
   "source": [
    "plt.xlabel('X data')\n",
    "plt.ylabel('Y data')\n",
    "plt.title('my beautiful plot')"
   ]
  },
  {
   "cell_type": "markdown",
   "metadata": {},
   "source": [
    "You can also change the scale and limits"
   ]
  },
  {
   "cell_type": "code",
   "execution_count": null,
   "metadata": {},
   "outputs": [],
   "source": [
    "plt.yscale('log')\n",
    "plt.xlim(4,50)"
   ]
  },
  {
   "cell_type": "markdown",
   "metadata": {},
   "source": [
    "Besides doing solid, continuous lines, you can also make scatter plots and histograms:"
   ]
  },
  {
   "cell_type": "code",
   "execution_count": null,
   "metadata": {},
   "outputs": [],
   "source": [
    "x = [5,2,8,4]\n",
    "y = [2,7,3,9]\n",
    "plt.scatter(x,y,marker = '*',s=2**8)\n",
    "plt.show()\n",
    "\n",
    "grades = [40,57,80,76,100,92,46,78,98,72,89]\n",
    "plt.hist(grades)\n",
    "plt.title('Grade distribution')\n",
    "plt.show()"
   ]
  },
  {
   "cell_type": "markdown",
   "metadata": {},
   "source": [
    "You can save these plots as well! Create a variable \"fig\" and set it equal to plt.figure(). Before calling plt.show(), do fig.savefig('filename.pdf')."
   ]
  },
  {
   "cell_type": "markdown",
   "metadata": {},
   "source": [
    "### Benchmark\n",
    "Create a quadratic function and an array from 0 to 50 to use as X values. Plot X and f(X), with the y scale on logarithmic. Make the length:height ratio of the plot 2:1, the color something other than default blue, and the line not solid. Then create another X array, half the resolution as the other, and scatter plot X and f(X). Again, make the color anything other than default blue and the markers anything other than dots. Label the line plot 'Excellent Data' and have a legend. Title the plot 'My first Python plot'. Once you're happy with it, save it."
   ]
  },
  {
   "cell_type": "code",
   "execution_count": null,
   "metadata": {},
   "outputs": [],
   "source": []
  },
  {
   "cell_type": "markdown",
   "metadata": {},
   "source": [
    "# Part II: Pythonic Boogaloo (or, now THIS is podracing)"
   ]
  },
  {
   "cell_type": "markdown",
   "metadata": {},
   "source": [
    "## Reading and Writing Data\n",
    "I keep talking about data and how big datasets can be, but where is it?? Surely we don't type in every single number and make a numpy array out of it? Fortunately for us, there are several ways Python can read in data. One of these is reading text files. Numpy has a nice function called $\\texttt{loadtxt}$ that reads in strings of numbers in text files and creates arrays we can work with. To show this, I'm going to make you do some of my research for me, mwahahahahahaha"
   ]
  },
  {
   "cell_type": "code",
   "execution_count": null,
   "metadata": {},
   "outputs": [],
   "source": [
    "plan_spec = np.loadtxt('gj1132b_psurf1.0_alb0.3_chem_earth.spec',skiprows=2)"
   ]
  },
  {
   "cell_type": "markdown",
   "metadata": {},
   "source": [
    "I've read in the thermal emission spectrum of a planet from a text file and named it to the variable $\\texttt{plan_spec}$. This file is split into columns, with wavelength in the first column and flux density in the second. Thankfully, the syntax for this is similar to something we've seen before. Thinking back to another object we used today that is split by columns, plot the planet spectrum in the cell below:"
   ]
  },
  {
   "cell_type": "code",
   "execution_count": null,
   "metadata": {},
   "outputs": [],
   "source": []
  },
  {
   "cell_type": "markdown",
   "metadata": {},
   "source": [
    "The filename for the star that this planet orbits is 'gj1132_interp.txt'. Read it in and plot it below:"
   ]
  },
  {
   "cell_type": "code",
   "execution_count": null,
   "metadata": {},
   "outputs": [],
   "source": []
  },
  {
   "cell_type": "markdown",
   "metadata": {},
   "source": [
    "Great, now we have both the planet spectrum and the stellar spectrum. Before we continue to the next step though, I'd like to import another very useful package: astropy. As it's name suggests, astropy has many tools catered for astronomy research through Python. In particular right now, I want to import its library of astronomical constants:"
   ]
  },
  {
   "cell_type": "code",
   "execution_count": null,
   "metadata": {},
   "outputs": [],
   "source": [
    "import astropy.constants as const"
   ]
  },
  {
   "cell_type": "code",
   "execution_count": null,
   "metadata": {},
   "outputs": [],
   "source": [
    "area_ratio = (1.16 * const.R_earth) / (0.207 * const.R_sun)\n",
    "eclipsedepth = (plan_spec[:,1]/star_spec[:,1]) * area_ratio**2"
   ]
  },
  {
   "cell_type": "code",
   "execution_count": null,
   "metadata": {},
   "outputs": [],
   "source": [
    "plt.plot(plan_spec[:,0],eclipsedepth); plt.xlim(0,20)"
   ]
  },
  {
   "cell_type": "code",
   "execution_count": null,
   "metadata": {},
   "outputs": [],
   "source": [
    "f = open('New Spectrum.txt','w+'')\n",
    "for i in range(len(eclipsedepth)):\n",
    "    f.write(format(plan_spec[:,0][i]) + '\\t' + format(eclipsedepth[i]) + '\\t\\n')\n",
    "f.close()"
   ]
  },
  {
   "cell_type": "markdown",
   "metadata": {},
   "source": [
    "### Benchmark\n",
    "Use the quadratic function you created in the last section to make a numpy array of the x and y values. Write them to a text file, then read the text file back in and plot it"
   ]
  },
  {
   "cell_type": "code",
   "execution_count": null,
   "metadata": {},
   "outputs": [],
   "source": []
  },
  {
   "cell_type": "code",
   "execution_count": null,
   "metadata": {},
   "outputs": [],
   "source": []
  },
  {
   "cell_type": "markdown",
   "metadata": {},
   "source": [
    "## Curve Fitting\n",
    "Data doesn't mean anything if you don't know what it means!! Astronomers frequently try to fit data to models and theory in order to contrain what's going on. \n",
    "\n",
    "First, lets read in our next set of data:"
   ]
  },
  {
   "cell_type": "code",
   "execution_count": null,
   "metadata": {},
   "outputs": [],
   "source": [
    "RV = np.loadtxt('RV Curve.txt')"
   ]
  },
  {
   "cell_type": "markdown",
   "metadata": {},
   "source": [
    "This is a radial velocity curve of a star. I want you to use scipy's $\\texttt{curve_fit}$ function to fit this to a sinusoidal function to solve for the radial velocity of the star as well as the system's velocity through space.\n",
    "\n",
    "However, one of the most important skills of a coder is knowing what to do when you don't know what to do. Therefore, this activity will be very hands off - I want you to google how to use this function and figure it out for yourselves.\n",
    "\n",
    "Hint: You may make use of numpy's $\\texttt{np.sin()}$ function."
   ]
  },
  {
   "cell_type": "code",
   "execution_count": null,
   "metadata": {},
   "outputs": [],
   "source": []
  }
 ],
 "metadata": {
  "kernelspec": {
   "display_name": "Python 3",
   "language": "python",
   "name": "python3"
  },
  "language_info": {
   "codemirror_mode": {
    "name": "ipython",
    "version": 3
   },
   "file_extension": ".py",
   "mimetype": "text/x-python",
   "name": "python",
   "nbconvert_exporter": "python",
   "pygments_lexer": "ipython3",
   "version": "3.6.5"
  },
  "toc": {
   "base_numbering": 1,
   "nav_menu": {},
   "number_sections": true,
   "sideBar": true,
   "skip_h1_title": false,
   "title_cell": "Table of Contents",
   "title_sidebar": "Contents",
   "toc_cell": false,
   "toc_position": {},
   "toc_section_display": true,
   "toc_window_display": true
  },
  "varInspector": {
   "cols": {
    "lenName": 16,
    "lenType": 16,
    "lenVar": 40
   },
   "kernels_config": {
    "python": {
     "delete_cmd_postfix": "",
     "delete_cmd_prefix": "del ",
     "library": "var_list.py",
     "varRefreshCmd": "print(var_dic_list())"
    },
    "r": {
     "delete_cmd_postfix": ") ",
     "delete_cmd_prefix": "rm(",
     "library": "var_list.r",
     "varRefreshCmd": "cat(var_dic_list()) "
    }
   },
   "types_to_exclude": [
    "module",
    "function",
    "builtin_function_or_method",
    "instance",
    "_Feature"
   ],
   "window_display": false
  }
 },
 "nbformat": 4,
 "nbformat_minor": 2
}
